{
  "nbformat": 4,
  "nbformat_minor": 0,
  "metadata": {
    "colab": {
      "name": "DataCreationVGG.ipynb",
      "provenance": [],
      "collapsed_sections": [],
      "toc_visible": true
    },
    "kernelspec": {
      "name": "python3",
      "display_name": "Python 3"
    }
  },
  "cells": [
    {
      "cell_type": "code",
      "metadata": {
        "id": "7jUuS87rtCeT",
        "colab_type": "code",
        "outputId": "a39d43d8-e2f8-4cfe-970c-6353f4863342",
        "colab": {
          "base_uri": "https://localhost:8080/",
          "height": 35
        }
      },
      "source": [
        "%cd \"drive/My Drive\""
      ],
      "execution_count": 1,
      "outputs": [
        {
          "output_type": "stream",
          "text": [
            "/content/drive/My Drive\n"
          ],
          "name": "stdout"
        }
      ]
    },
    {
      "cell_type": "code",
      "metadata": {
        "id": "mK5E9wcBowSh",
        "colab_type": "code",
        "colab": {}
      },
      "source": [
        "import json \n",
        "  \n",
        "# JSON file\n",
        "def read_json(filename): \n",
        "  f = open (filename, \"r\") \n",
        "    \n",
        "  # Reading from file \n",
        "  data = json.loads(f.read()) \n",
        "  return data"
      ],
      "execution_count": 0,
      "outputs": []
    },
    {
      "cell_type": "code",
      "metadata": {
        "id": "q7YSHM2jevNM",
        "colab_type": "code",
        "outputId": "87f0f944-baac-4932-ca8a-f66db5c4e23a",
        "colab": {
          "base_uri": "https://localhost:8080/",
          "height": 35
        }
      },
      "source": [
        "%cd \"VQA-master/PythonHelperTools/\""
      ],
      "execution_count": 3,
      "outputs": [
        {
          "output_type": "stream",
          "text": [
            "/content/drive/My Drive/VQA-master/PythonHelperTools\n"
          ],
          "name": "stdout"
        }
      ]
    },
    {
      "cell_type": "code",
      "metadata": {
        "id": "3DI9dzyLZhLU",
        "colab_type": "code",
        "colab": {}
      },
      "source": [
        "# %cd .."
      ],
      "execution_count": 0,
      "outputs": []
    },
    {
      "cell_type": "code",
      "metadata": {
        "id": "MU35f3uc2Ghf",
        "colab_type": "code",
        "outputId": "b4c254f6-9a91-43c9-98a1-ed4a218a136d",
        "colab": {
          "base_uri": "https://localhost:8080/",
          "height": 72
        }
      },
      "source": [
        "import torch\n",
        "import torch.nn as nn\n",
        "import torchvision.models as models\n",
        "import torchvision.transforms as transforms\n",
        "from torch.autograd import Variable\n",
        "from PIL import Image\n",
        "\n",
        "# Load the pretrained model\n",
        "# model = models.resnet18(pretrained=True)\n",
        "model = models.vgg16(pretrained=True)\n",
        "# Use the model object to select the desired layer\n",
        "layer = model._modules.get('features')._modules.get('29')\n",
        "\n",
        "\n",
        "# Set model to evaluation mode\n",
        "model.eval()\n",
        "\n",
        "scaler = transforms.Scale((224, 224))\n",
        "normalize = transforms.Normalize(mean=[0.485, 0.456, 0.406],\n",
        "                                 std=[0.229, 0.224, 0.225])\n",
        "to_tensor = transforms.ToTensor()"
      ],
      "execution_count": 5,
      "outputs": [
        {
          "output_type": "stream",
          "text": [
            "/usr/local/lib/python3.6/dist-packages/torchvision/transforms/transforms.py:220: UserWarning: The use of the transforms.Scale transform is deprecated, please use transforms.Resize instead.\n",
            "  \"please use transforms.Resize instead.\")\n"
          ],
          "name": "stderr"
        }
      ]
    },
    {
      "cell_type": "code",
      "metadata": {
        "id": "i1IoNipe3I_q",
        "colab_type": "code",
        "outputId": "6183d728-2baa-441f-a3bc-86f18b8fa851",
        "colab": {
          "base_uri": "https://localhost:8080/",
          "height": 809
        }
      },
      "source": [
        "print(model)"
      ],
      "execution_count": 6,
      "outputs": [
        {
          "output_type": "stream",
          "text": [
            "VGG(\n",
            "  (features): Sequential(\n",
            "    (0): Conv2d(3, 64, kernel_size=(3, 3), stride=(1, 1), padding=(1, 1))\n",
            "    (1): ReLU(inplace=True)\n",
            "    (2): Conv2d(64, 64, kernel_size=(3, 3), stride=(1, 1), padding=(1, 1))\n",
            "    (3): ReLU(inplace=True)\n",
            "    (4): MaxPool2d(kernel_size=2, stride=2, padding=0, dilation=1, ceil_mode=False)\n",
            "    (5): Conv2d(64, 128, kernel_size=(3, 3), stride=(1, 1), padding=(1, 1))\n",
            "    (6): ReLU(inplace=True)\n",
            "    (7): Conv2d(128, 128, kernel_size=(3, 3), stride=(1, 1), padding=(1, 1))\n",
            "    (8): ReLU(inplace=True)\n",
            "    (9): MaxPool2d(kernel_size=2, stride=2, padding=0, dilation=1, ceil_mode=False)\n",
            "    (10): Conv2d(128, 256, kernel_size=(3, 3), stride=(1, 1), padding=(1, 1))\n",
            "    (11): ReLU(inplace=True)\n",
            "    (12): Conv2d(256, 256, kernel_size=(3, 3), stride=(1, 1), padding=(1, 1))\n",
            "    (13): ReLU(inplace=True)\n",
            "    (14): Conv2d(256, 256, kernel_size=(3, 3), stride=(1, 1), padding=(1, 1))\n",
            "    (15): ReLU(inplace=True)\n",
            "    (16): MaxPool2d(kernel_size=2, stride=2, padding=0, dilation=1, ceil_mode=False)\n",
            "    (17): Conv2d(256, 512, kernel_size=(3, 3), stride=(1, 1), padding=(1, 1))\n",
            "    (18): ReLU(inplace=True)\n",
            "    (19): Conv2d(512, 512, kernel_size=(3, 3), stride=(1, 1), padding=(1, 1))\n",
            "    (20): ReLU(inplace=True)\n",
            "    (21): Conv2d(512, 512, kernel_size=(3, 3), stride=(1, 1), padding=(1, 1))\n",
            "    (22): ReLU(inplace=True)\n",
            "    (23): MaxPool2d(kernel_size=2, stride=2, padding=0, dilation=1, ceil_mode=False)\n",
            "    (24): Conv2d(512, 512, kernel_size=(3, 3), stride=(1, 1), padding=(1, 1))\n",
            "    (25): ReLU(inplace=True)\n",
            "    (26): Conv2d(512, 512, kernel_size=(3, 3), stride=(1, 1), padding=(1, 1))\n",
            "    (27): ReLU(inplace=True)\n",
            "    (28): Conv2d(512, 512, kernel_size=(3, 3), stride=(1, 1), padding=(1, 1))\n",
            "    (29): ReLU(inplace=True)\n",
            "    (30): MaxPool2d(kernel_size=2, stride=2, padding=0, dilation=1, ceil_mode=False)\n",
            "  )\n",
            "  (avgpool): AdaptiveAvgPool2d(output_size=(7, 7))\n",
            "  (classifier): Sequential(\n",
            "    (0): Linear(in_features=25088, out_features=4096, bias=True)\n",
            "    (1): ReLU(inplace=True)\n",
            "    (2): Dropout(p=0.5, inplace=False)\n",
            "    (3): Linear(in_features=4096, out_features=4096, bias=True)\n",
            "    (4): ReLU(inplace=True)\n",
            "    (5): Dropout(p=0.5, inplace=False)\n",
            "    (6): Linear(in_features=4096, out_features=1000, bias=True)\n",
            "  )\n",
            ")\n"
          ],
          "name": "stdout"
        }
      ]
    },
    {
      "cell_type": "code",
      "metadata": {
        "id": "R4_ftihT3CYg",
        "colab_type": "code",
        "colab": {}
      },
      "source": [
        "def get_vector(image_name):\n",
        "    # 1. Load the image with Pillow library\n",
        "    img = Image.open(image_name)\n",
        "    if len(np.array(img).shape) == 2:\n",
        "      img = np.array(img)\n",
        "      tmp_img = np.zeros(shape=[img.shape[0], img.shape[1], 3])\n",
        "      tmp_img[:,:,0] = img\n",
        "      tmp_img[:,:,1] = img\n",
        "      tmp_img[:,:,2] = img\n",
        "      img = tmp_img\n",
        "      img = Image.fromarray(np.uint8(img))\n",
        "    # print(np.array(img).shape)\n",
        "    # print(len(np.array(img).shape))\n",
        "    # 2. Create a PyTorch Variable with the transformed image\n",
        "    t_img = Variable(normalize(to_tensor(scaler(img))).unsqueeze(0))\n",
        "    # 3. Create a vector of zeros that will hold our feature vector\n",
        "    #    The 'avgpool' layer has an output size of 512\n",
        "    my_embedding = torch.zeros(512,14,14)\n",
        "    # 4. Define a function that will copy the output of a layer\n",
        "    def copy_data(m, i, o):\n",
        "        # print(o.data.size())\n",
        "        my_embedding.copy_(o.data.view(o.data.size(1),o.data.size(2),o.data.size(3)))\n",
        "    # 5. Attach that function to our selected layer\n",
        "    h = layer.register_forward_hook(copy_data)\n",
        "    # 6. Run the model on our transformed image\n",
        "    model(t_img)\n",
        "    # 7. Detach our copy function from the layer\n",
        "    h.remove()\n",
        "    # 8. Return the feature vector\n",
        "    return my_embedding"
      ],
      "execution_count": 0,
      "outputs": []
    },
    {
      "cell_type": "code",
      "metadata": {
        "id": "FrmxzKk4Y2_x",
        "colab_type": "code",
        "colab": {
          "base_uri": "https://localhost:8080/",
          "height": 35
        },
        "outputId": "f89b5fae-480b-49bb-8f8c-56fc7380f45d"
      },
      "source": [
        "%cd .."
      ],
      "execution_count": 9,
      "outputs": [
        {
          "output_type": "stream",
          "text": [
            "/content/drive/My Drive/VQA-master\n"
          ],
          "name": "stdout"
        }
      ]
    },
    {
      "cell_type": "code",
      "metadata": {
        "id": "jShXtQRIdr34",
        "colab_type": "code",
        "colab": {}
      },
      "source": [
        "train_data = read_json(\"combined_filtered_train_dataset_32k.json\")"
      ],
      "execution_count": 0,
      "outputs": []
    },
    {
      "cell_type": "code",
      "metadata": {
        "id": "cd3DFir33GhQ",
        "colab_type": "code",
        "colab": {}
      },
      "source": [
        "import numpy as np\n",
        "image_features = np.zeros(shape=[len(train_data), 512, 14, 14])\n",
        "for i in range(len(train_data)):\n",
        "  if i%10 == 0:\n",
        "    print(i)\n",
        "  image_loc = train_data[i]['image_loc']\n",
        "  # print(image_loc)\n",
        "  vector = get_vector(\"Images/mscoco/\"+image_loc)\n",
        "  image_features[i,:] = vector\n",
        "  # print(vector)\n",
        "  # break"
      ],
      "execution_count": 0,
      "outputs": []
    },
    {
      "cell_type": "code",
      "metadata": {
        "id": "f7hZqfR43PqF",
        "colab_type": "code",
        "colab": {}
      },
      "source": [
        "np.save(\"new_filtered_train_image_features_vgg.npy\", image_features)"
      ],
      "execution_count": 0,
      "outputs": []
    },
    {
      "cell_type": "code",
      "metadata": {
        "id": "pVcN8XpHd1Bj",
        "colab_type": "code",
        "colab": {}
      },
      "source": [
        ""
      ],
      "execution_count": 0,
      "outputs": []
    },
    {
      "cell_type": "code",
      "metadata": {
        "id": "szdgLkqQdfN-",
        "colab_type": "code",
        "colab": {}
      },
      "source": [
        "train_data = read_json(\"combined_filtered_val_dataset_19k.json\")"
      ],
      "execution_count": 0,
      "outputs": []
    },
    {
      "cell_type": "code",
      "metadata": {
        "id": "2sBnHkZTdyBZ",
        "colab_type": "code",
        "colab": {}
      },
      "source": [
        "import numpy as np\n",
        "image_features = np.zeros(shape=[len(train_data), 512, 14, 14])\n",
        "for i in range(len(train_data)):\n",
        "  if i%10 == 0:\n",
        "    print(i)\n",
        "  image_loc = train_data[i]['image_loc']\n",
        "  # print(image_loc)\n",
        "  vector = get_vector(\"Images/mscoco/\"+image_loc)\n",
        "  image_features[i,:] = vector\n",
        "  # print(vector)\n",
        "  # break"
      ],
      "execution_count": 0,
      "outputs": []
    },
    {
      "cell_type": "code",
      "metadata": {
        "id": "uT1jYSUCd24R",
        "colab_type": "code",
        "colab": {}
      },
      "source": [
        "np.save(\"new_filtered_val_image_features_vgg.npy\", image_features)"
      ],
      "execution_count": 0,
      "outputs": []
    }
  ]
}